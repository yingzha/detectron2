{
 "cells": [
  {
   "cell_type": "code",
   "execution_count": null,
   "metadata": {},
   "outputs": [],
   "source": [
    "%load_ext autoreload"
   ]
  },
  {
   "cell_type": "code",
   "execution_count": null,
   "metadata": {},
   "outputs": [],
   "source": [
    "from videoseg.youtube_vis import register_youtube_vis_from_dicts, get_dicts, get_thing_classes\n",
    "from detectron2.data import DatasetCatalog, MetadataCatalog\n",
    "from detectron2.utils.visualizer import Visualizer\n",
    "from detectron2.engine import DefaultPredictor, DefaultTrainer\n",
    "import matplotlib.pyplot as plt\n",
    "from pathlib import Path\n",
    "import pycocotools.mask as mask_utils\n",
    "import random\n",
    "import cv2\n",
    "import os\n",
    "import matplotlib\n",
    "import numpy as np"
   ]
  },
  {
   "cell_type": "code",
   "execution_count": null,
   "metadata": {},
   "outputs": [],
   "source": [
    "path = \"/mnt/datasets/public/youtube-vis/train/train_v2.json\"\n",
    "youtube_vis_train = MetadataCatalog.get(\"youtube-vis-train\")\n",
    "MetadataCatalog.get(\"youtube-vis-train\").thing_classes = get_thing_classes(path)\n",
    "dataset_dicts = get_dicts(path)"
   ]
  },
  {
   "cell_type": "code",
   "execution_count": null,
   "metadata": {},
   "outputs": [],
   "source": [
    "dataset_dicts[0][\"annotations\"]"
   ]
  },
  {
   "cell_type": "code",
   "execution_count": null,
   "metadata": {},
   "outputs": [],
   "source": [
    "print(MetadataCatalog.get(\"youtube-vis-train\").thing_classes)"
   ]
  },
  {
   "cell_type": "code",
   "execution_count": null,
   "metadata": {
    "scrolled": false
   },
   "outputs": [],
   "source": [
    "for d in random.sample(dataset_dicts, 1):\n",
    "    img = cv2.imread(d[\"file_name\"])\n",
    "    visualizer = Visualizer(img[:, :, ::-1], metadata=youtube_vis_train, scale=1.0)\n",
    "    vis = visualizer.draw_dataset_dict(d)\n",
    "    fig = plt.figure(figsize=(16, 16))\n",
    "    ax1 = fig.add_subplot(1, 3, 1)\n",
    "    ax1.imshow(vis.get_image())\n",
    "    # get the mask from the previous frame\n",
    "    tm1_np_mask = np.zeros((d[\"height\"], d[\"width\"]))\n",
    "    for tm1_mask in d[\"tm1_mask\"]:\n",
    "        rle_mask = mask_utils.frPyObjects(tm1_mask, d[\"height\"], d[\"width\"])\n",
    "        rle_mask = mask_utils.merge(rle_mask)\n",
    "        tm1_np_mask = np.clip(tm1_np_mask + mask_utils.decode(rle_mask), 0, 1)\n",
    "        \n",
    "    ax2 = fig.add_subplot(1, 3, 2)\n",
    "    ax2.imshow(tm1_np_mask, cmap=\"gray\")\n",
    "    ax3 = fig.add_subplot(1, 3, 3)\n",
    "    img = cv2.imread(d[\"tm1_file_name\"])\n",
    "    ax3.imshow(np.array(img[:, :, ::-1]))"
   ]
  },
  {
   "cell_type": "markdown",
   "metadata": {},
   "source": [
    "**Evaluation**"
   ]
  }
 ],
 "metadata": {
  "kernelspec": {
   "display_name": "Python 3",
   "language": "python",
   "name": "python3"
  },
  "language_info": {
   "codemirror_mode": {
    "name": "ipython",
    "version": 3
   },
   "file_extension": ".py",
   "mimetype": "text/x-python",
   "name": "python",
   "nbconvert_exporter": "python",
   "pygments_lexer": "ipython3",
   "version": "3.7.4"
  }
 },
 "nbformat": 4,
 "nbformat_minor": 2
}
